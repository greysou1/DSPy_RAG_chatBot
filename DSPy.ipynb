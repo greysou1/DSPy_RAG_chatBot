{
 "cells": [
  {
   "cell_type": "code",
   "execution_count": 43,
   "metadata": {},
   "outputs": [
    {
     "data": {
      "text/plain": [
       "True"
      ]
     },
     "execution_count": 43,
     "metadata": {},
     "output_type": "execute_result"
    }
   ],
   "source": [
    "import sys\n",
    "import os\n",
    "import dspy\n",
    "import boto3\n",
    "from langchain_aws import BedrockLLM as Bedrock\n",
    "\n",
    "from dotenv import load_dotenv\n",
    "# Load environment variables from .env file\n",
    "load_dotenv()"
   ]
  },
  {
   "cell_type": "code",
   "execution_count": 44,
   "metadata": {},
   "outputs": [],
   "source": [
    "try: # When on google Colab, let's clone the notebook so we download the cache.\n",
    "    repo_path = 'dspy'\n",
    "    # !git -C $repo_path pull origin || git clone https://github.com/stanfordnlp/dspy $repo_path\n",
    "except:\n",
    "    repo_path = '.'\n",
    "\n",
    "if repo_path not in sys.path:\n",
    "    sys.path.append(repo_path)\n",
    "\n",
    "# Set up the cache for this notebook\n",
    "os.environ[\"DSP_NOTEBOOK_CACHEDIR\"] = os.path.join(repo_path, 'cache')"
   ]
  },
  {
   "cell_type": "code",
   "execution_count": 46,
   "metadata": {},
   "outputs": [
    {
     "data": {
      "text/plain": [
       "[{'id': '201',\n",
       "  'score': 0.8914483785629272,\n",
       "  'long_text': '7/28/24, 23:08Holy Water / Zamzam Water | JetBlue\\nPage 2 of 3https://www.jetblue.com/help/holy-waterNeed help?Holy Water & Zamzam Water on JetBlueFlightsJetBlue will accept one jerry can containing up to 10 liters (2.64 gallons) of Holywater or Zamzam water as a checked bag\\xa0at no extra charge.The jerry can must be properly packed in a plastic covering to avoid leakageand damage to other bags.Jerry cans containing Holy or Zamzam water are\\xa0not permitted as a carry-onbag.If more than one jerry can is checked, the extra jerry cans will be subject tostandard excess bag\\xa0charges.Was this page helpful?YesNo\\nSearch for answers',\n",
       "  'metadatas': {'page': 1,\n",
       "   'source': '/Users/prudvikamtam/Documents/Projects/LLM/JetBlue_LLM/documents/Holy Water : Zamzam Water | JetBlue.pdf'}}]"
      ]
     },
     "execution_count": 46,
     "metadata": {},
     "output_type": "execute_result"
    }
   ],
   "source": [
    "from dspy.retrieve.chromadb_rm import ChromadbRM\n",
    "from chromadb.utils.embedding_functions import OpenAIEmbeddingFunction\n",
    "from chromadb.utils.embedding_functions import SentenceTransformerEmbeddingFunction\n",
    "\n",
    "# embedding_function = OpenAIEmbeddingFunction(\n",
    "#     api_key=os.environ.get('OPENAI_API_KEY'),\n",
    "#     model_name=\"text-embedding-ada-002\"\n",
    "# )\n",
    "embedding_function = SentenceTransformerEmbeddingFunction()\n",
    "\n",
    "retriever_model = ChromadbRM(\n",
    "    'JetBlueHelp_stef',\n",
    "    embedding_function=embedding_function,\n",
    "    persist_directory='/Users/prudvikamtam/Documents/Projects/LLM/JetBlue_LLM/chromadb2/',\n",
    "    k=5\n",
    ")\n",
    "\n",
    "question = \"Can I take holy water on the plane? if yes, what is the permitted quantity?\"\n",
    "retriever_model(question, k=1)"
   ]
  },
  {
   "cell_type": "code",
   "execution_count": 47,
   "metadata": {},
   "outputs": [
    {
     "name": "stdout",
     "output_type": "stream",
     "text": [
      "Using model: llama3\n"
     ]
    }
   ],
   "source": [
    "use_model = 'llama3'\n",
    "if use_model == 'cohere':\n",
    "    llm_model = dspy.Cohere(model='command-xlarge-nightly', api_key=os.getenv(\"COHERE_API_KEY\"))\n",
    "if use_model == 'phi':\n",
    "    llm_model = dspy.OllamaLocal(model='phi')\n",
    "else: # use phi local model\n",
    "    llm_model = dspy.OllamaLocal(model='llama3')\n",
    "\n",
    "print(f\"Using model: {use_model}\")"
   ]
  },
  {
   "cell_type": "code",
   "execution_count": 48,
   "metadata": {},
   "outputs": [],
   "source": [
    "dspy.settings.configure(lm=llm_model, rm=retriever_model) # configure dspy"
   ]
  },
  {
   "cell_type": "code",
   "execution_count": 10,
   "metadata": {},
   "outputs": [],
   "source": [
    "class BasicQA(dspy.Signature):\n",
    "    # \"\"\"Answer questions with short factoid answers.\"\"\"\n",
    "    \"\"\"Act as a ChatBot on JetBlue airlines website, answer queries by customers.\"\"\"\n",
    "\n",
    "    question = dspy.InputField()\n",
    "    answer = dspy.OutputField(desc=\"No more than 20 words. Use metrics\")"
   ]
  },
  {
   "cell_type": "code",
   "execution_count": 11,
   "metadata": {},
   "outputs": [
    {
     "name": "stdout",
     "output_type": "stream",
     "text": [
      "Question: Can I take holy water on the plane? if yes, what is the permitted quantity?\n",
      "Predicted Answer: Question: Can I take holy water on the plane? if yes, what is the permitted quantity?\n",
      "\n",
      "Answer: Yes, you can bring holy water in a 1-quart (32 oz) container.\n"
     ]
    }
   ],
   "source": [
    "# Define the predictor.\n",
    "generate_answer = dspy.Predict(BasicQA)\n",
    "\n",
    "# Call the predictor on a particular input.\n",
    "pred = generate_answer(question=question)\n",
    "\n",
    "# Print the input and the prediction.\n",
    "print(f\"Question: {question}\")\n",
    "print(f\"Predicted Answer: {pred.answer}\")"
   ]
  },
  {
   "cell_type": "code",
   "execution_count": 12,
   "metadata": {},
   "outputs": [
    {
     "name": "stdout",
     "output_type": "stream",
     "text": [
      "\n",
      "\n",
      "\n",
      "Act as a ChatBot on JetBlue airlines website, answer queries by customers.\n",
      "\n",
      "---\n",
      "\n",
      "Follow the following format.\n",
      "\n",
      "Question: ${question}\n",
      "Answer: No more than 20 words. Use metrics\n",
      "\n",
      "---\n",
      "\n",
      "Question: Can I take holy water on the plane? if yes, what is the permitted quantity?\n",
      "Answer:\u001b[32m Question: Can I take holy water on the plane? if yes, what is the permitted quantity?\n",
      "\n",
      "Answer: Yes, you can bring holy water in a 1-quart (32 oz) container.\u001b[0m\n",
      "\n",
      "\n",
      "\n"
     ]
    },
    {
     "data": {
      "text/plain": [
       "'\\n\\n\\nAct as a ChatBot on JetBlue airlines website, answer queries by customers.\\n\\n---\\n\\nFollow the following format.\\n\\nQuestion: ${question}\\nAnswer: No more than 20 words. Use metrics\\n\\n---\\n\\nQuestion: Can I take holy water on the plane? if yes, what is the permitted quantity?\\nAnswer:\\x1b[32m Question: Can I take holy water on the plane? if yes, what is the permitted quantity?\\n\\nAnswer: Yes, you can bring holy water in a 1-quart (32 oz) container.\\x1b[0m\\n\\n\\n'"
      ]
     },
     "execution_count": 12,
     "metadata": {},
     "output_type": "execute_result"
    }
   ],
   "source": [
    "llm_model.inspect_history(n=1)"
   ]
  },
  {
   "cell_type": "code",
   "execution_count": 13,
   "metadata": {},
   "outputs": [
    {
     "name": "stdout",
     "output_type": "stream",
     "text": [
      "Question: Can I take holy water on the plane? if yes, what is the permitted quantity?\n",
      "Thought: We need to check JetBlue's policies and regulations regarding liquids, gels, and aerosols.\n",
      "Predicted Answer: Yes, you can bring holy water on board! The Transportation Security Administration (TSA) allows 3.4 ounces or less of liquids, gels, and aerosols in your carry-on bag.\n"
     ]
    }
   ],
   "source": [
    "generate_answer_with_chain_of_thought = dspy.ChainOfThought(BasicQA)\n",
    "\n",
    "# Call the predictor on the same input.\n",
    "pred = generate_answer_with_chain_of_thought(question=question)\n",
    "\n",
    "# Print the input, the chain of thought, and the prediction.\n",
    "print(f\"Question: {question}\")\n",
    "print(f\"Thought: {pred.rationale.split('.', 1)[1].strip()}\")\n",
    "print(f\"Predicted Answer: {pred.answer}\")"
   ]
  },
  {
   "cell_type": "code",
   "execution_count": 14,
   "metadata": {},
   "outputs": [
    {
     "name": "stdout",
     "output_type": "stream",
     "text": [
      "Top 3 passages for question: Can I take holy water on the plane? if yes, what is the permitted quantity? \n",
      " ------------------------------ \n",
      "\n",
      "1] 7/28/24, 23:08Holy Water / Zamzam Water | JetBlue\n",
      "Page 2 of 3https://www.jetblue.com/help/holy-waterNeed help?Holy Water & Zamzam Water on JetBlueFlightsJetBlue will accept one jerry can containing up to 10 liters (2.64 gallons) of Holywater or Zamzam water as a checked bag at no extra charge.The jerry can must be properly packed in a plastic covering to avoid leakageand damage to other bags.Jerry cans containing Holy or Zamzam water are not permitted as a carry-onbag.If more than one jerry can is checked, the extra jerry cans will be subject tostandard excess bag charges.Was this page helpful?YesNo\n",
      "Search for answers \n",
      "\n",
      "2] 7/28/24, 23:08Holy Water / Zamzam Water | JetBlue\n",
      "Page 1 of 3https://www.jetblue.com/help/holy-waterHoly Water / Zamzam WaterWe are proud to support your religions and traditions while you travel with us.Search for answers Help \n",
      "\n",
      "3] 7/28/24, 23:08Holy Water / Zamzam Water | JetBlue\n",
      "Page 3 of 3https://www.jetblue.com/help/holy-waterGet To Know UsPoliciesJetBlue In ActionStay ConnectedJoin our email listDownload the JetBlue mobile appSee help topics Indicates link opens an external site and may not conform to the same accessibility policies asJetBlue.©2024 JetBlue AirwaysEnglish \n",
      "\n"
     ]
    }
   ],
   "source": [
    "retrieve = dspy.Retrieve(k=3)\n",
    "topK_passages = retrieve(question).passages\n",
    "\n",
    "print(f\"Top {retrieve.k} passages for question: {question} \\n\", '-' * 30, '\\n')\n",
    "\n",
    "for idx, passage in enumerate(topK_passages):\n",
    "    print(f'{idx+1}]', passage, '\\n')"
   ]
  },
  {
   "cell_type": "code",
   "execution_count": 15,
   "metadata": {},
   "outputs": [],
   "source": [
    "class GenerateAnswer(dspy.Signature):\n",
    "    \"\"\"Act as a ChatBot on JetBlue airlines website, answer queries by customers.\"\"\"\n",
    "\n",
    "    context = dspy.InputField(desc=\"may contain relevant facts\")\n",
    "    question = dspy.InputField()\n",
    "    answer = dspy.OutputField(desc=\"no more than 20 words\")"
   ]
  },
  {
   "cell_type": "code",
   "execution_count": 16,
   "metadata": {},
   "outputs": [],
   "source": [
    "class RAG(dspy.Module):\n",
    "    def __init__(self, num_passages=3):\n",
    "        super().__init__()\n",
    "\n",
    "        self.retrieve = dspy.Retrieve(k=num_passages)\n",
    "        self.generate_answer = dspy.ChainOfThought(GenerateAnswer)\n",
    "    \n",
    "    def forward(self, question):\n",
    "        context = self.retrieve(question).passages\n",
    "        prediction = self.generate_answer(context=context, question=question)\n",
    "        return dspy.Prediction(context=context, answer=prediction.answer)"
   ]
  },
  {
   "cell_type": "code",
   "execution_count": 17,
   "metadata": {},
   "outputs": [
    {
     "data": {
      "text/plain": [
       "(20, 50)"
      ]
     },
     "execution_count": 17,
     "metadata": {},
     "output_type": "execute_result"
    }
   ],
   "source": [
    "from dspy.datasets import HotPotQA\n",
    "\n",
    "# Load the dataset.\n",
    "dataset = HotPotQA(train_seed=1, train_size=20, eval_seed=2023, dev_size=50, test_size=0)\n",
    "\n",
    "# Tell DSPy that the 'question' field is the input. Any other fields are labels and/or metadata.\n",
    "trainset = [x.with_inputs('question') for x in dataset.train]\n",
    "devset = [x.with_inputs('question') for x in dataset.dev]\n",
    "\n",
    "len(trainset), len(devset)"
   ]
  },
  {
   "cell_type": "code",
   "execution_count": 18,
   "metadata": {},
   "outputs": [
    {
     "name": "stderr",
     "output_type": "stream",
     "text": [
      "100%|██████████| 20/20 [04:04<00:00, 12.20s/it]"
     ]
    },
    {
     "name": "stdout",
     "output_type": "stream",
     "text": [
      "Bootstrapped 0 full traces after 20 examples in round 0.\n"
     ]
    },
    {
     "name": "stderr",
     "output_type": "stream",
     "text": [
      "\n"
     ]
    }
   ],
   "source": [
    "from dspy.teleprompt import BootstrapFewShot\n",
    "\n",
    "# Validation logic: check that the predicted answer is correct.\n",
    "# Also check that the retrieved context does actually contain that answer.\n",
    "def validate_context_and_answer(example, pred, trace=None):\n",
    "    answer_EM = dspy.evaluate.answer_exact_match(example, pred)\n",
    "    answer_PM = dspy.evaluate.answer_passage_match(example, pred)\n",
    "    return answer_EM and answer_PM\n",
    "\n",
    "# Set up a basic teleprompter, which will compile our RAG program.\n",
    "teleprompter = BootstrapFewShot(metric=validate_context_and_answer)\n",
    "\n",
    "# Compile!\n",
    "compiled_rag = teleprompter.compile(RAG(), trainset=trainset)"
   ]
  },
  {
   "cell_type": "code",
   "execution_count": 19,
   "metadata": {},
   "outputs": [
    {
     "name": "stdout",
     "output_type": "stream",
     "text": [
      "Question: Can I take holy water on the plane? if yes, what is the permitted quantity?\n",
      "Predicted Answer: Yes, you can take holy water on the plane, and the permitted quantity is up to 10 liters (2.64 gallons).\n",
      "Retrieved Contexts (truncated): ['7/28/24, 23:08Holy Water / Zamzam Water | JetBlue\\nPage 2 of 3https://www.jetblue.com/help/holy-waterNeed help?Holy Water & Zamzam Water on JetBlueFlightsJetBlue will accept one jerry can containing up...', '7/28/24, 23:08Holy Water / Zamzam Water | JetBlue\\nPage 1 of 3https://www.jetblue.com/help/holy-waterHoly Water / Zamzam WaterWe are proud to support your religions and traditions while you travel with...', '7/28/24, 23:08Holy Water / Zamzam Water | JetBlue\\nPage 3 of 3https://www.jetblue.com/help/holy-waterGet To Know UsPoliciesJetBlue In ActionStay ConnectedJoin our email listDownload the JetBlue mobile ...']\n"
     ]
    }
   ],
   "source": [
    "# Get the prediction. This contains `pred.context` and `pred.answer`.\n",
    "pred = compiled_rag(question)\n",
    "\n",
    "# Print the contexts and the answer.\n",
    "print(f\"Question: {question}\")\n",
    "print(f\"Predicted Answer: {pred.answer}\")\n",
    "print(f\"Retrieved Contexts (truncated): {[c[:200] + '...' for c in pred.context]}\")"
   ]
  },
  {
   "cell_type": "code",
   "execution_count": 21,
   "metadata": {},
   "outputs": [
    {
     "name": "stdout",
     "output_type": "stream",
     "text": [
      "[('retrieve', <dspy.retrieve.retrieve.Retrieve object at 0x1432495a0>), ('generate_answer', Predict(StringSignature(context, question -> rationale, answer\n",
      "    instructions='Act as a ChatBot on JetBlue airlines website, answer queries by customers.'\n",
      "    context = Field(annotation=str required=True json_schema_extra={'desc': 'may contain relevant facts', '__dspy_field_type': 'input', 'prefix': 'Context:'})\n",
      "    question = Field(annotation=str required=True json_schema_extra={'__dspy_field_type': 'input', 'prefix': 'Question:', 'desc': '${question}'})\n",
      "    rationale = Field(annotation=str required=True json_schema_extra={'prefix': \"Reasoning: Let's think step by step in order to\", 'desc': '${produce the answer}. We ...', '__dspy_field_type': 'output'})\n",
      "    answer = Field(annotation=str required=True json_schema_extra={'desc': 'no more than 20 words', '__dspy_field_type': 'output', 'prefix': 'Answer:'})\n",
      ")))]\n"
     ]
    }
   ],
   "source": [
    "compiled_rag.save(\"compiled_models/compiled_RAG.json\")\n",
    "\n",
    "compiled_rag_saved = RAG()\n",
    "compiled_rag_saved.load(\"compiled_models/compiled_RAG.json\")"
   ]
  },
  {
   "cell_type": "code",
   "execution_count": 23,
   "metadata": {},
   "outputs": [],
   "source": [
    "questions = [\n",
    "    \"Can I take holy water on the plane? if yes, what is the permitted quantity?\",\n",
    "    \"what is the check-in baggage weight limit?\",\n",
    "    \"How to do a online baggage claim report?\",\n",
    "]"
   ]
  },
  {
   "cell_type": "code",
   "execution_count": 26,
   "metadata": {},
   "outputs": [
    {
     "name": "stdout",
     "output_type": "stream",
     "text": [
      "Human: Can I take holy water on the plane? if yes, what is the permitted quantity?\n",
      "AI: Yes, you can take holy water on the plane, and the permitted quantity is up to 10 liters (2.64 gallons).\n",
      "\n",
      "Human: what is the check-in baggage weight limit?\n",
      "AI: Hello there! I'm happy to help you with your question. According to JetBlue's checked bag policy, the maximum weight limit for a checked bag is 50 pounds (22.68 kg). If your bag exceeds this weight limit, it will be considered overweight and you'll need to pay an excess bag fee. Let me know if you have any other questions or concerns!\n",
      "\n",
      "Human: How to do a online baggage claim report?\n",
      "AI: I'd be happy to help!\n",
      "\n",
      "According to JetBlue's website, it seems that you can add bags and pay fees at any time leading up to your departure. You can also indicate how many bags you're bringing and pay the applicable fees during the check-in process within 24 hours of your flight's departure.\n",
      "\n",
      "To report a baggage claim online, you can follow these steps:\n",
      "\n",
      "1. Go to JetBlue's website and log in to your account.\n",
      "2. Click on \"Manage Your Trip\" and select the trip for which you want to file a baggage claim.\n",
      "3. Scroll down to the \"Baggage\" section and click on \"File a Baggage Claim\".\n",
      "4. Fill out the required information, including your flight details, bag type\n",
      "\n"
     ]
    }
   ],
   "source": [
    "for ques in questions:\n",
    "    pred = compiled_rag_saved(ques)\n",
    "\n",
    "    # Print the contexts and the answer.\n",
    "    print(f\"Human: {ques}\")\n",
    "    print(f\"AI: {pred.answer}\\n\")"
   ]
  },
  {
   "cell_type": "code",
   "execution_count": 30,
   "metadata": {},
   "outputs": [],
   "source": [
    "st_chat_history =\"\"\"Human: what is the check-in baggage weight limit?\n",
    "AI: Hello there! I'm happy to help you with your question. According to JetBlue's checked bag policy, the maximum weight limit for a checked bag is 50 pounds (22.68 kg). If your bag exceeds this weight limit, it will be considered overweight and you'll need to pay an excess bag fee. Let me know if you have any other questions or concerns!\n",
    "\n",
    "Human: Can I take holy water on the plane? if yes, what is the permitted quantity?\n",
    "AI: Yes, you can take holy water on the plane, and the permitted quantity is up to 10 liters (2.64 gallons).\n",
    "\n",
    "Human: How to do a online baggage claim report?\n",
    "AI: I'd be happy to help!\n",
    "\n",
    "According to JetBlue's website, it seems that you can add bags and pay fees at any time leading up to your departure. You can also indicate how many bags you're bringing and pay the applicable fees during the check-in process within 24 hours of your flight's departure.\n",
    "\n",
    "To report a baggage claim online, you can follow these steps:\n",
    "\n",
    "1. Go to JetBlue's website and log in to your account.\n",
    "2. Click on \"Manage Your Trip\" and select the trip for which you want to file a baggage claim.\n",
    "3. Scroll down to the \"Baggage\" section and click on \"File a Baggage Claim\".\n",
    "4. Fill out the required information, including your flight details, bag type\"\"\"\n"
   ]
  },
  {
   "cell_type": "code",
   "execution_count": 39,
   "metadata": {},
   "outputs": [],
   "source": [
    "class Chatbot(dspy.Signature):\n",
    "    # \"\"\"Answer questions with short factoid answers.\"\"\"\n",
    "    \"\"\"Act as a ChatBot on JetBlue airlines website, answer queries by customers based on facts and context.\"\"\"\n",
    "\n",
    "    context = dspy.InputField(desc=\"may contain relevant facts\")\n",
    "    chat_history = dspy.InputField(desc=\"contains the history of the chat so far\")\n",
    "    question = dspy.InputField()\n",
    "    answer = dspy.OutputField(desc=\"No more than 20 words. may have metrics\")\n",
    "\n",
    "class RAG_chatbot(dspy.Module):\n",
    "    def __init__(self, num_passages=3):\n",
    "        super().__init__()\n",
    "\n",
    "        self.retrieve = dspy.Retrieve(k=num_passages)\n",
    "        self.generate_answer = dspy.ChainOfThought(Chatbot)\n",
    "        # self.chat_history = st_chat_history\n",
    "    \n",
    "    def get_chat_history(self, st_chat_history):\n",
    "        chat_history = \"Chat History : \\n\"\n",
    "        for chat_history_item in st_chat_history:\n",
    "            chat_history += f\"{chat_history_item[0]} : {chat_history_item[1]} \\n\"\n",
    "        \n",
    "        return chat_history\n",
    "    \n",
    "    def forward(self, question):\n",
    "        context = self.retrieve(question).passages\n",
    "        # chat_history = self.get_chat_history(st_chat_history)\n",
    "        prediction = self.generate_answer(context=context, question=question, chat_history=st_chat_history)\n",
    "\n",
    "        return dspy.Prediction(context=context, answer=prediction.answer)"
   ]
  },
  {
   "cell_type": "code",
   "execution_count": 40,
   "metadata": {},
   "outputs": [
    {
     "name": "stdout",
     "output_type": "stream",
     "text": [
      "Example({'question': 'At My Window was released by which American singer-songwriter?', 'answer': 'John Townes Van Zandt'}) (input_keys={'question'})\n",
      "Example({'question': 'which  American actor was Candace Kita  guest starred with ', 'answer': 'Bill Murray'}) (input_keys={'question'})\n",
      "Example({'question': 'Which of these publications was most recently published, Who Put the Bomp or Self?', 'answer': 'Self'}) (input_keys={'question'})\n",
      "Example({'question': 'The Victorians - Their Story In Pictures is a documentary series written by an author born in what year?', 'answer': '1950'}) (input_keys={'question'})\n",
      "Example({'question': 'Which magazine has published articles by Scott Shaw, Tae Kwon Do Times or Southwest Art?', 'answer': 'Tae Kwon Do Times'}) (input_keys={'question'})\n",
      "Example({'question': 'In what year was the club founded that played Manchester City in the 1972 FA Charity Shield', 'answer': '1874'}) (input_keys={'question'})\n",
      "Example({'question': 'Which is taller, the Empire State Building or the Bank of America Tower?', 'answer': 'The Empire State Building'}) (input_keys={'question'})\n",
      "Example({'question': 'Which American actress who made their film debut in the 1995 teen drama \"Kids\" was the co-founder of Voto Latino?', 'answer': 'Rosario Dawson'}) (input_keys={'question'})\n",
      "Example({'question': 'Tombstone stared an actor born May 17, 1955 known as who?', 'answer': 'Bill Paxton'}) (input_keys={'question'})\n",
      "Example({'question': 'What is the code name for the German offensive that started this Second World War engagement on the Eastern Front (a few hundred kilometers from Moscow) between Soviet and German forces, which included 102nd Infantry Division?', 'answer': 'Operation Citadel'}) (input_keys={'question'})\n",
      "Example({'question': 'Who acted in the shot film The Shore and is also the youngest actress ever to play Ophelia in a Royal Shakespeare Company production of \"Hamlet.\" ?', 'answer': 'Kerry Condon'}) (input_keys={'question'})\n",
      "Example({'question': 'Which company distributed this 1977 American animated film produced by Walt Disney Productions for which Sherman Brothers wrote songs?', 'answer': 'Buena Vista Distribution'}) (input_keys={'question'})\n",
      "Example({'question': 'Samantha Cristoforetti and Mark Shuttleworth are both best known for being first in their field to go where? ', 'answer': 'space'}) (input_keys={'question'})\n",
      "Example({'question': 'Having the combination of excellent foot speed and bat speed helped Eric Davis, create what kind of outfield for the Los Angeles Dodgers? ', 'answer': '\"Outfield of Dreams\"'}) (input_keys={'question'})\n",
      "Example({'question': 'Which Pakistani cricket umpire who won 3 consecutive ICC umpire of the year awards in 2009, 2010, and 2011 will be in the ICC World Twenty20?', 'answer': 'Aleem Sarwar Dar'}) (input_keys={'question'})\n",
      "Example({'question': 'The Organisation that allows a community to influence their operation or use and to enjoy the benefits arisingwas founded in what year?', 'answer': '2010'}) (input_keys={'question'})\n",
      "Example({'question': '\"Everything Has Changed\" is a song from an album released under which record label ?', 'answer': 'Big Machine Records'}) (input_keys={'question'})\n",
      "Example({'question': 'Who is older, Aleksandr Danilovich Aleksandrov or Anatoly Fomenko?', 'answer': 'Aleksandr Danilovich Aleksandrov'}) (input_keys={'question'})\n",
      "Example({'question': 'On the coast of what ocean is the birthplace of Diogal Sakho?', 'answer': 'Atlantic'}) (input_keys={'question'})\n",
      "Example({'question': 'This American guitarist best known for her work with the Iron Maidens is an ancestor of a composer who was known as what?', 'answer': 'The Waltz King'}) (input_keys={'question'})\n"
     ]
    }
   ],
   "source": [
    "for item in trainset:\n",
    "    print(item)"
   ]
  },
  {
   "cell_type": "code",
   "execution_count": 41,
   "metadata": {},
   "outputs": [
    {
     "name": "stderr",
     "output_type": "stream",
     "text": [
      "100%|██████████| 20/20 [03:50<00:00, 11.53s/it]"
     ]
    },
    {
     "name": "stdout",
     "output_type": "stream",
     "text": [
      "Bootstrapped 0 full traces after 20 examples in round 0.\n"
     ]
    },
    {
     "name": "stderr",
     "output_type": "stream",
     "text": [
      "\n"
     ]
    }
   ],
   "source": [
    "from dspy.teleprompt import BootstrapFewShot\n",
    "\n",
    "# Validation logic: check that the predicted answer is correct.\n",
    "# Also check that the retrieved context does actually contain that answer.\n",
    "def validate_context_and_answer(example, pred, trace=None):\n",
    "    answer_EM = dspy.evaluate.answer_exact_match(example, pred)\n",
    "    answer_PM = dspy.evaluate.answer_passage_match(example, pred)\n",
    "    return answer_EM and answer_PM\n",
    "\n",
    "# Set up a basic teleprompter, which will compile our RAG program.\n",
    "teleprompter = BootstrapFewShot(metric=validate_context_and_answer)\n",
    "\n",
    "# Compile!\n",
    "compiled_rag = teleprompter.compile(RAG_chatbot(), trainset=trainset)"
   ]
  },
  {
   "cell_type": "code",
   "execution_count": 42,
   "metadata": {},
   "outputs": [
    {
     "name": "stdout",
     "output_type": "stream",
     "text": [
      "[('retrieve', <dspy.retrieve.retrieve.Retrieve object at 0x143d34070>), ('generate_answer', Predict(StringSignature(context, chat_history, question -> rationale, answer\n",
      "    instructions='Act as a ChatBot on JetBlue airlines website, answer queries by customers based on facts and context.'\n",
      "    context = Field(annotation=str required=True json_schema_extra={'desc': 'may contain relevant facts', '__dspy_field_type': 'input', 'prefix': 'Context:'})\n",
      "    chat_history = Field(annotation=str required=True json_schema_extra={'desc': 'contains the history of the chat so far', '__dspy_field_type': 'input', 'prefix': 'Chat History:'})\n",
      "    question = Field(annotation=str required=True json_schema_extra={'__dspy_field_type': 'input', 'prefix': 'Question:', 'desc': '${question}'})\n",
      "    rationale = Field(annotation=str required=True json_schema_extra={'prefix': \"Reasoning: Let's think step by step in order to\", 'desc': '${produce the answer}. We ...', '__dspy_field_type': 'output'})\n",
      "    answer = Field(annotation=str required=True json_schema_extra={'desc': 'No more than 20 words. may have metrics', '__dspy_field_type': 'output', 'prefix': 'Answer:'})\n",
      ")))]\n"
     ]
    }
   ],
   "source": [
    "compiled_rag.save(\"compiled_models/chatbot_RAG.json\")\n",
    "\n",
    "compiled_rag_saved = RAG()\n",
    "compiled_rag_saved.load(\"compiled_models/chatbot_RAG.json\")"
   ]
  },
  {
   "cell_type": "code",
   "execution_count": null,
   "metadata": {},
   "outputs": [],
   "source": [
    "# create a training example set\n",
    "# dspy.Example(question=\"\", answer=\"\", chat_history=\"\")"
   ]
  }
 ],
 "metadata": {
  "kernelspec": {
   "display_name": "env",
   "language": "python",
   "name": "python3"
  },
  "language_info": {
   "codemirror_mode": {
    "name": "ipython",
    "version": 3
   },
   "file_extension": ".py",
   "mimetype": "text/x-python",
   "name": "python",
   "nbconvert_exporter": "python",
   "pygments_lexer": "ipython3",
   "version": "3.10.9"
  }
 },
 "nbformat": 4,
 "nbformat_minor": 2
}
